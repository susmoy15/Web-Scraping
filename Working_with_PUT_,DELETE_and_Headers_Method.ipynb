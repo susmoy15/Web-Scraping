{
  "nbformat": 4,
  "nbformat_minor": 0,
  "metadata": {
    "colab": {
      "provenance": [],
      "authorship_tag": "ABX9TyN/qx3kbIYuVC2yGqMbhI0q",
      "include_colab_link": true
    },
    "kernelspec": {
      "name": "python3",
      "display_name": "Python 3"
    },
    "language_info": {
      "name": "python"
    }
  },
  "cells": [
    {
      "cell_type": "markdown",
      "metadata": {
        "id": "view-in-github",
        "colab_type": "text"
      },
      "source": [
        "<a href=\"https://colab.research.google.com/github/susmoy15/Web-Scraping/blob/main/Working_with_PUT_%2CDELETE_and_Headers_Method.ipynb\" target=\"_parent\"><img src=\"https://colab.research.google.com/assets/colab-badge.svg\" alt=\"Open In Colab\"/></a>"
      ]
    },
    {
      "cell_type": "code",
      "source": [
        "import requests"
      ],
      "metadata": {
        "id": "67JTygECMfpe"
      },
      "execution_count": 1,
      "outputs": []
    },
    {
      "cell_type": "code",
      "source": [
        "uri = \"https://httpbin.org/put\""
      ],
      "metadata": {
        "id": "RtOCPZrhMiEG"
      },
      "execution_count": 2,
      "outputs": []
    },
    {
      "cell_type": "code",
      "source": [
        "data = {\n",
        "    \"value\" : \"Oi ki re?\"\n",
        "}"
      ],
      "metadata": {
        "id": "6uBNey5OMvne"
      },
      "execution_count": 3,
      "outputs": []
    },
    {
      "cell_type": "code",
      "source": [
        "response = requests.put(uri, data=data)"
      ],
      "metadata": {
        "id": "9ddRbT6aM5Ll"
      },
      "execution_count": 5,
      "outputs": []
    },
    {
      "cell_type": "code",
      "source": [
        "response.status_code"
      ],
      "metadata": {
        "colab": {
          "base_uri": "https://localhost:8080/"
        },
        "id": "2mRAWFrHNDI1",
        "outputId": "422f4166-226d-4385-cff6-f1d22a50ffbd"
      },
      "execution_count": 6,
      "outputs": [
        {
          "output_type": "execute_result",
          "data": {
            "text/plain": [
              "200"
            ]
          },
          "metadata": {},
          "execution_count": 6
        }
      ]
    },
    {
      "cell_type": "code",
      "source": [
        "response.json()"
      ],
      "metadata": {
        "colab": {
          "base_uri": "https://localhost:8080/"
        },
        "id": "614aZlUbNQjF",
        "outputId": "c2d23114-1591-4257-8dc9-fe7f66fb1aee"
      },
      "execution_count": 7,
      "outputs": [
        {
          "output_type": "execute_result",
          "data": {
            "text/plain": [
              "{'args': {},\n",
              " 'data': '',\n",
              " 'files': {},\n",
              " 'form': {'value': 'Oi ki re?'},\n",
              " 'headers': {'Accept': '*/*',\n",
              "  'Accept-Encoding': 'gzip, deflate, zstd',\n",
              "  'Content-Length': '17',\n",
              "  'Content-Type': 'application/x-www-form-urlencoded',\n",
              "  'Host': 'httpbin.org',\n",
              "  'User-Agent': 'python-requests/2.32.3',\n",
              "  'X-Amzn-Trace-Id': 'Root=1-6826f6fa-4d14952e08f62f0b56bb3cf6'},\n",
              " 'json': None,\n",
              " 'origin': '34.169.5.240',\n",
              " 'url': 'https://httpbin.org/put'}"
            ]
          },
          "metadata": {},
          "execution_count": 7
        }
      ]
    },
    {
      "cell_type": "markdown",
      "source": [
        "# **DELETE**"
      ],
      "metadata": {
        "id": "n0OJltK0NVQl"
      }
    },
    {
      "cell_type": "code",
      "source": [
        "uri = \"https://httpbin.org/delete\""
      ],
      "metadata": {
        "id": "9uRajXOJNZwc"
      },
      "execution_count": 8,
      "outputs": []
    },
    {
      "cell_type": "code",
      "source": [
        "response = requests.delete(uri)"
      ],
      "metadata": {
        "id": "0uEEsAJ2NeBt"
      },
      "execution_count": 9,
      "outputs": []
    },
    {
      "cell_type": "code",
      "source": [
        "response.status_code"
      ],
      "metadata": {
        "colab": {
          "base_uri": "https://localhost:8080/"
        },
        "id": "FNzq-qw7NhDW",
        "outputId": "9446ce26-4465-4f91-858d-d4131a820bcf"
      },
      "execution_count": 10,
      "outputs": [
        {
          "output_type": "execute_result",
          "data": {
            "text/plain": [
              "200"
            ]
          },
          "metadata": {},
          "execution_count": 10
        }
      ]
    },
    {
      "cell_type": "code",
      "source": [
        "response.json()"
      ],
      "metadata": {
        "colab": {
          "base_uri": "https://localhost:8080/"
        },
        "id": "cAvagsdtNmTt",
        "outputId": "319c18aa-e961-4c36-9540-d3773255e833"
      },
      "execution_count": 11,
      "outputs": [
        {
          "output_type": "execute_result",
          "data": {
            "text/plain": [
              "{'args': {},\n",
              " 'data': '',\n",
              " 'files': {},\n",
              " 'form': {},\n",
              " 'headers': {'Accept': '*/*',\n",
              "  'Accept-Encoding': 'gzip, deflate, zstd',\n",
              "  'Content-Length': '0',\n",
              "  'Host': 'httpbin.org',\n",
              "  'User-Agent': 'python-requests/2.32.3',\n",
              "  'X-Amzn-Trace-Id': 'Root=1-6826f750-3baa66b8490716f06ca66796'},\n",
              " 'json': None,\n",
              " 'origin': '34.169.5.240',\n",
              " 'url': 'https://httpbin.org/delete'}"
            ]
          },
          "metadata": {},
          "execution_count": 11
        }
      ]
    },
    {
      "cell_type": "markdown",
      "source": [
        "# **HEADERS**"
      ],
      "metadata": {
        "id": "ztTumtRigIDT"
      }
    },
    {
      "cell_type": "code",
      "source": [
        "headers = {\n",
        "\t'User-Agent': 'Mozilla/5.0 (Windows NT 10.0; Win64; x64)',\n",
        "    'Accept': 'application/json',\n",
        "\t'Authorization': 'Bearer YOUR_ACCESS_TOKEN',\n",
        "\t'Content-Type': 'application/json',\n",
        "\t'X-Custom-Header': 'CustomValue',\n",
        "}"
      ],
      "metadata": {
        "id": "H_twrq1KgMkT"
      },
      "execution_count": 29,
      "outputs": []
    },
    {
      "cell_type": "code",
      "source": [
        "uri = \"https://httpbin.org/headers\""
      ],
      "metadata": {
        "id": "x4TbzI_WgQo8"
      },
      "execution_count": 30,
      "outputs": []
    },
    {
      "cell_type": "code",
      "source": [
        "response = requests.get(uri, headers=headers)"
      ],
      "metadata": {
        "id": "g1dMc8Z4gT5r"
      },
      "execution_count": 31,
      "outputs": []
    },
    {
      "cell_type": "code",
      "source": [
        "response.headers"
      ],
      "metadata": {
        "colab": {
          "base_uri": "https://localhost:8080/"
        },
        "id": "BSt64Urhg06R",
        "outputId": "8ffea1a6-5823-43f9-fae8-998cadf1deb2"
      },
      "execution_count": 32,
      "outputs": [
        {
          "output_type": "execute_result",
          "data": {
            "text/plain": [
              "{'Date': 'Fri, 16 May 2025 10:02:37 GMT', 'Content-Type': 'application/json', 'Content-Length': '393', 'Connection': 'keep-alive', 'Server': 'gunicorn/19.9.0', 'Access-Control-Allow-Origin': '*', 'Access-Control-Allow-Credentials': 'true'}"
            ]
          },
          "metadata": {},
          "execution_count": 32
        }
      ]
    },
    {
      "cell_type": "code",
      "source": [
        "type(response.headers)"
      ],
      "metadata": {
        "colab": {
          "base_uri": "https://localhost:8080/",
          "height": 187
        },
        "id": "Xpjxv0ttg1VS",
        "outputId": "15b04283-9c94-4b3d-bfec-cac4a722bcb9"
      },
      "execution_count": 33,
      "outputs": [
        {
          "output_type": "execute_result",
          "data": {
            "text/plain": [
              "requests.structures.CaseInsensitiveDict"
            ],
            "text/html": [
              "<div style=\"max-width:800px; border: 1px solid var(--colab-border-color);\"><style>\n",
              "      pre.function-repr-contents {\n",
              "        overflow-x: auto;\n",
              "        padding: 8px 12px;\n",
              "        max-height: 500px;\n",
              "      }\n",
              "\n",
              "      pre.function-repr-contents.function-repr-contents-collapsed {\n",
              "        cursor: pointer;\n",
              "        max-height: 100px;\n",
              "      }\n",
              "    </style>\n",
              "    <pre style=\"white-space: initial; background:\n",
              "         var(--colab-secondary-surface-color); padding: 8px 12px;\n",
              "         border-bottom: 1px solid var(--colab-border-color);\"><b>requests.structures.CaseInsensitiveDict</b><br/>def __init__(data=None, **kwargs)</pre><pre class=\"function-repr-contents function-repr-contents-collapsed\" style=\"\"><a class=\"filepath\" style=\"display:none\" href=\"#\">/usr/local/lib/python3.11/dist-packages/requests/structures.py</a>A case-insensitive ``dict``-like object.\n",
              "\n",
              "Implements all methods and operations of\n",
              "``MutableMapping`` as well as dict&#x27;s ``copy``. Also\n",
              "provides ``lower_items``.\n",
              "\n",
              "All keys are expected to be strings. The structure remembers the\n",
              "case of the last key to be set, and ``iter(instance)``,\n",
              "``keys()``, ``items()``, ``iterkeys()``, and ``iteritems()``\n",
              "will contain case-sensitive keys. However, querying and contains\n",
              "testing is case insensitive::\n",
              "\n",
              "    cid = CaseInsensitiveDict()\n",
              "    cid[&#x27;Accept&#x27;] = &#x27;application/json&#x27;\n",
              "    cid[&#x27;aCCEPT&#x27;] == &#x27;application/json&#x27;  # True\n",
              "    list(cid) == [&#x27;Accept&#x27;]  # True\n",
              "\n",
              "For example, ``headers[&#x27;content-encoding&#x27;]`` will return the\n",
              "value of a ``&#x27;Content-Encoding&#x27;`` response header, regardless\n",
              "of how the header name was originally stored.\n",
              "\n",
              "If the constructor, ``.update``, or equality comparison\n",
              "operations are given keys that have equal ``.lower()``s, the\n",
              "behavior is undefined.</pre>\n",
              "      <script>\n",
              "      if (google.colab.kernel.accessAllowed && google.colab.files && google.colab.files.view) {\n",
              "        for (const element of document.querySelectorAll('.filepath')) {\n",
              "          element.style.display = 'block'\n",
              "          element.onclick = (event) => {\n",
              "            event.preventDefault();\n",
              "            event.stopPropagation();\n",
              "            google.colab.files.view(element.textContent, 13);\n",
              "          };\n",
              "        }\n",
              "      }\n",
              "      for (const element of document.querySelectorAll('.function-repr-contents')) {\n",
              "        element.onclick = (event) => {\n",
              "          event.preventDefault();\n",
              "          event.stopPropagation();\n",
              "          element.classList.toggle('function-repr-contents-collapsed');\n",
              "        };\n",
              "      }\n",
              "      </script>\n",
              "      </div>"
            ]
          },
          "metadata": {},
          "execution_count": 33
        }
      ]
    },
    {
      "cell_type": "code",
      "source": [
        "dict(response.headers)"
      ],
      "metadata": {
        "colab": {
          "base_uri": "https://localhost:8080/"
        },
        "id": "jl3hCvhMhe5w",
        "outputId": "d4651188-5a61-4140-8118-783be1939b76"
      },
      "execution_count": 34,
      "outputs": [
        {
          "output_type": "execute_result",
          "data": {
            "text/plain": [
              "{'Date': 'Fri, 16 May 2025 10:02:37 GMT',\n",
              " 'Content-Type': 'application/json',\n",
              " 'Content-Length': '393',\n",
              " 'Connection': 'keep-alive',\n",
              " 'Server': 'gunicorn/19.9.0',\n",
              " 'Access-Control-Allow-Origin': '*',\n",
              " 'Access-Control-Allow-Credentials': 'true'}"
            ]
          },
          "metadata": {},
          "execution_count": 34
        }
      ]
    },
    {
      "cell_type": "code",
      "source": [
        "response.json()"
      ],
      "metadata": {
        "colab": {
          "base_uri": "https://localhost:8080/"
        },
        "id": "V8s4GtJIhhMo",
        "outputId": "24692d43-15db-40f6-9938-8ec837055833"
      },
      "execution_count": 35,
      "outputs": [
        {
          "output_type": "execute_result",
          "data": {
            "text/plain": [
              "{'headers': {'Accept': 'application/json',\n",
              "  'Accept-Encoding': 'gzip, deflate, zstd',\n",
              "  'Authorization': 'Bearer YOUR_ACCESS_TOKEN',\n",
              "  'Content-Type': 'application/json',\n",
              "  'Host': 'httpbin.org',\n",
              "  'User-Agent': 'Mozilla/5.0 (Windows NT 10.0; Win64; x64)',\n",
              "  'X-Amzn-Trace-Id': 'Root=1-68270d3d-5d5317ac74862c5d24eda8a2',\n",
              "  'X-Custom-Header': 'CustomValue'}}"
            ]
          },
          "metadata": {},
          "execution_count": 35
        }
      ]
    },
    {
      "cell_type": "code",
      "source": [
        "for header, value in response.json()[\"headers\"].items():\n",
        "    print(f\"{header:<20}: {value}\")"
      ],
      "metadata": {
        "colab": {
          "base_uri": "https://localhost:8080/"
        },
        "id": "z11sO_RFhkDh",
        "outputId": "d0ff2c99-1aad-4068-8d8a-628a7474c9f7"
      },
      "execution_count": 48,
      "outputs": [
        {
          "output_type": "stream",
          "name": "stdout",
          "text": [
            "Accept              : application/json\n",
            "Accept-Encoding     : gzip, deflate, zstd\n",
            "Authorization       : Bearer YOUR_ACCESS_TOKEN\n",
            "Content-Type        : application/json\n",
            "Host                : httpbin.org\n",
            "User-Agent          : Mozilla/5.0 (Windows NT 10.0; Win64; x64)\n",
            "X-Amzn-Trace-Id     : Root=1-68270d3d-5d5317ac74862c5d24eda8a2\n",
            "X-Custom-Header     : CustomValue\n"
          ]
        }
      ]
    },
    {
      "cell_type": "code",
      "source": [
        ""
      ],
      "metadata": {
        "id": "c2H1xJ2JiQ-3"
      },
      "execution_count": null,
      "outputs": []
    }
  ]
}