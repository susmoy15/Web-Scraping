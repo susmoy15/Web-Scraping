{
  "nbformat": 4,
  "nbformat_minor": 0,
  "metadata": {
    "colab": {
      "provenance": [],
      "authorship_tag": "ABX9TyN6CmfJCs2oPQsTVyed2YE0",
      "include_colab_link": true
    },
    "kernelspec": {
      "name": "python3",
      "display_name": "Python 3"
    },
    "language_info": {
      "name": "python"
    }
  },
  "cells": [
    {
      "cell_type": "markdown",
      "metadata": {
        "id": "view-in-github",
        "colab_type": "text"
      },
      "source": [
        "<a href=\"https://colab.research.google.com/github/susmoy15/Web-Scraping/blob/main/beautifulsoup.ipynb\" target=\"_parent\"><img src=\"https://colab.research.google.com/assets/colab-badge.svg\" alt=\"Open In Colab\"/></a>"
      ]
    },
    {
      "cell_type": "code",
      "execution_count": 3,
      "metadata": {
        "id": "183sIrdmtBv4"
      },
      "outputs": [],
      "source": [
        "import requests\n",
        "import pandas as pd\n",
        "from bs4 import BeautifulSoup"
      ]
    },
    {
      "cell_type": "code",
      "source": [
        "html = \"\"\"\n",
        "<html>\n",
        "  <head><title>Test Page</title></head>\n",
        "  <body>\n",
        "    <h1 class=\"title\">Hello, World!</h1>\n",
        "    <p id=\"first\">This is a <a href=\"http://example.com\">link</a>.</p>\n",
        "    <p id=\"second\">This is another paragraph.</p>\n",
        "  </body>\n",
        "</html>\n",
        "\"\"\""
      ],
      "metadata": {
        "id": "oUmqJ3UxN2Kj"
      },
      "execution_count": 1,
      "outputs": []
    },
    {
      "cell_type": "code",
      "source": [
        "soup = BeautifulSoup(html, 'html.parser')"
      ],
      "metadata": {
        "id": "rVTs3dCk4x88"
      },
      "execution_count": 4,
      "outputs": []
    },
    {
      "cell_type": "code",
      "source": [
        "# Title\n",
        "print(\"Title:\", soup.title.string)\n",
        "\n",
        "# All <p> tags\n",
        "print(\"Paragraphs:\", soup.find_all('p'))\n",
        "\n",
        "# First <a> tag href\n",
        "print(\"Link:\", soup.find('a')['href'])\n",
        "\n",
        "# Get text only\n",
        "print(\"All text:\", soup.get_text())\n",
        "\n",
        "# Find by attribute\n",
        "print(\"Second Paragraph:\", soup.find('p', id='second').get_text())\n",
        "\n",
        "# CSS selector\n",
        "print(\"Using select:\", soup.select_one('h1.title').text)"
      ],
      "metadata": {
        "colab": {
          "base_uri": "https://localhost:8080/"
        },
        "id": "05HOwsxv40qk",
        "outputId": "4a583023-c476-4f6a-e18a-1f2e8c668314"
      },
      "execution_count": 5,
      "outputs": [
        {
          "output_type": "stream",
          "name": "stdout",
          "text": [
            "Title: Test Page\n",
            "Paragraphs: [<p id=\"first\">This is a <a href=\"http://example.com\">link</a>.</p>, <p id=\"second\">This is another paragraph.</p>]\n",
            "Link: http://example.com\n",
            "All text: \n",
            "\n",
            "Test Page\n",
            "\n",
            "Hello, World!\n",
            "This is a link.\n",
            "This is another paragraph.\n",
            "\n",
            "\n",
            "\n",
            "Second Paragraph: This is another paragraph.\n",
            "Using select: Hello, World!\n"
          ]
        }
      ]
    }
  ]
}