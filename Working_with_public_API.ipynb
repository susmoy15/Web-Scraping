{
  "nbformat": 4,
  "nbformat_minor": 0,
  "metadata": {
    "colab": {
      "provenance": [],
      "authorship_tag": "ABX9TyN5CtJ0sBV4nSL9N4DZ90AG",
      "include_colab_link": true
    },
    "kernelspec": {
      "name": "python3",
      "display_name": "Python 3"
    },
    "language_info": {
      "name": "python"
    }
  },
  "cells": [
    {
      "cell_type": "markdown",
      "metadata": {
        "id": "view-in-github",
        "colab_type": "text"
      },
      "source": [
        "<a href=\"https://colab.research.google.com/github/susmoy15/Web-Scraping/blob/main/Working_with_public_API.ipynb\" target=\"_parent\"><img src=\"https://colab.research.google.com/assets/colab-badge.svg\" alt=\"Open In Colab\"/></a>"
      ]
    },
    {
      "cell_type": "markdown",
      "source": [
        "1.API: https://jsonplaceholder.typicode.com/ <br>\n",
        "2.endpoint: posts <br>\n",
        "3.perform error handling: raise_for_status() <br>"
      ],
      "metadata": {
        "id": "62WjpvwNo2jh"
      }
    },
    {
      "cell_type": "code",
      "source": [
        "import requests"
      ],
      "metadata": {
        "id": "MX1ee-NMpCxI"
      },
      "execution_count": 1,
      "outputs": []
    },
    {
      "cell_type": "code",
      "source": [
        "url=\" https://jsonplaceholder.typicode.com/posts\""
      ],
      "metadata": {
        "id": "uu-MQJ6Nqm15"
      },
      "execution_count": 2,
      "outputs": []
    },
    {
      "cell_type": "code",
      "source": [
        "try:\n",
        "    response = requests.get(url)\n",
        "    response.raise_for_status()\n",
        "except Exception as e:\n",
        "    print(e)\n",
        "else:\n",
        "    status_code = response.status_code\n",
        "    print(f\"\\nStatus Code: {status_code}\")\n",
        "    if status_code == 200:\n",
        "        print(\"\\nSuccess\")\n",
        "        posts = response.json()\n",
        "        for i in range(3):\n",
        "            print(f\"\\nposts {i+1}:\")\n",
        "            print(posts[i])\n",
        "    else:\n",
        "      print(\"Error\")"
      ],
      "metadata": {
        "colab": {
          "base_uri": "https://localhost:8080/"
        },
        "id": "Ypv5JfDFqvbJ",
        "outputId": "dc06b0ca-a1c2-4948-ce7e-ae48bebe1140"
      },
      "execution_count": 10,
      "outputs": [
        {
          "output_type": "stream",
          "name": "stdout",
          "text": [
            "\n",
            "Status Code: 200\n",
            "\n",
            "Success\n",
            "\n",
            "posts 1:\n",
            "{'userId': 1, 'id': 1, 'title': 'sunt aut facere repellat provident occaecati excepturi optio reprehenderit', 'body': 'quia et suscipit\\nsuscipit recusandae consequuntur expedita et cum\\nreprehenderit molestiae ut ut quas totam\\nnostrum rerum est autem sunt rem eveniet architecto'}\n",
            "\n",
            "posts 2:\n",
            "{'userId': 1, 'id': 2, 'title': 'qui est esse', 'body': 'est rerum tempore vitae\\nsequi sint nihil reprehenderit dolor beatae ea dolores neque\\nfugiat blanditiis voluptate porro vel nihil molestiae ut reiciendis\\nqui aperiam non debitis possimus qui neque nisi nulla'}\n",
            "\n",
            "posts 3:\n",
            "{'userId': 1, 'id': 3, 'title': 'ea molestias quasi exercitationem repellat qui ipsa sit aut', 'body': 'et iusto sed quo iure\\nvoluptatem occaecati omnis eligendi aut ad\\nvoluptatem doloribus vel accusantium quis pariatur\\nmolestiae porro eius odio et labore et velit aut'}\n"
          ]
        }
      ]
    },
    {
      "cell_type": "markdown",
      "source": [
        "# * **Make a POST request to submit a post** <br>\n",
        "* include the following parameters:<br>\n",
        "*title\n",
        "*body\n",
        "*userId"
      ],
      "metadata": {
        "id": "j22KG315uoau"
      }
    },
    {
      "cell_type": "code",
      "source": [
        "new_post = {\n",
        "    \"title\": \"Sample Post\",\n",
        "    \"body\": \"This is sample posts\",\n",
        "    \"userId\": \"364\"\n",
        "}"
      ],
      "metadata": {
        "id": "dtGIlIULuxkO"
      },
      "execution_count": 11,
      "outputs": []
    },
    {
      "cell_type": "code",
      "source": [
        "try:\n",
        "    response = requests.post(url, data=new_post)\n",
        "    response.raise_for_status()\n",
        "except Exception as e:\n",
        "    print(e)\n",
        "else:\n",
        "    status_code = response.status_code\n",
        "    if status_code == 201:\n",
        "      print(f\"\\nStatus Code: {status_code}\")\n",
        "      print(\"Success\")\n",
        "      post = response.json()\n",
        "      print(\"\\nPosts:\")\n",
        "      print(post)\n",
        "    else:\n",
        "      print(f\"\\nStatus Code: {status_code}\")\n",
        "      print(\"Error\")"
      ],
      "metadata": {
        "colab": {
          "base_uri": "https://localhost:8080/"
        },
        "id": "vh5tA6_LvTBt",
        "outputId": "d851b8bd-7a0d-425e-ea8c-5df8d7da9fdf"
      },
      "execution_count": 13,
      "outputs": [
        {
          "output_type": "stream",
          "name": "stdout",
          "text": [
            "\n",
            "Status Code: 201\n",
            "Success\n",
            "\n",
            "Posts:\n",
            "{'title': 'Sample Post', 'body': 'This is sample posts', 'userId': '364', 'id': 101}\n"
          ]
        }
      ]
    }
  ]
}