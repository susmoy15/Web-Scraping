{
  "nbformat": 4,
  "nbformat_minor": 0,
  "metadata": {
    "colab": {
      "provenance": [],
      "authorship_tag": "ABX9TyNym7/bohh3oq194NHDZ2W5",
      "include_colab_link": true
    },
    "kernelspec": {
      "name": "python3",
      "display_name": "Python 3"
    },
    "language_info": {
      "name": "python"
    }
  },
  "cells": [
    {
      "cell_type": "markdown",
      "metadata": {
        "id": "view-in-github",
        "colab_type": "text"
      },
      "source": [
        "<a href=\"https://colab.research.google.com/github/susmoy15/Web-Scraping/blob/main/Working_with_GET_Method.ipynb\" target=\"_parent\"><img src=\"https://colab.research.google.com/assets/colab-badge.svg\" alt=\"Open In Colab\"/></a>"
      ]
    },
    {
      "cell_type": "code",
      "source": [
        "import requests"
      ],
      "metadata": {
        "id": "RzJwSp05vM-t"
      },
      "execution_count": 88,
      "outputs": []
    },
    {
      "cell_type": "code",
      "source": [
        "print(requests.__version__)"
      ],
      "metadata": {
        "colab": {
          "base_uri": "https://localhost:8080/"
        },
        "id": "8WK8NVfCvQCV",
        "outputId": "b881c45e-3c75-4fe9-ac23-150baffdad85"
      },
      "execution_count": 89,
      "outputs": [
        {
          "output_type": "stream",
          "name": "stdout",
          "text": [
            "2.32.3\n"
          ]
        }
      ]
    },
    {
      "cell_type": "code",
      "source": [
        "uri = \"https://github.com/\"\n",
        "response = requests.get(uri)"
      ],
      "metadata": {
        "id": "7kJ0DdaYvqps"
      },
      "execution_count": 90,
      "outputs": []
    },
    {
      "cell_type": "code",
      "source": [
        "response"
      ],
      "metadata": {
        "colab": {
          "base_uri": "https://localhost:8080/"
        },
        "id": "Ey9yaAz8xNmd",
        "outputId": "1579ee38-769c-47e9-be6b-cc018f601ba1"
      },
      "execution_count": 91,
      "outputs": [
        {
          "output_type": "execute_result",
          "data": {
            "text/plain": [
              "<Response [200]>"
            ]
          },
          "metadata": {},
          "execution_count": 91
        }
      ]
    },
    {
      "cell_type": "code",
      "source": [
        "response.status_code"
      ],
      "metadata": {
        "colab": {
          "base_uri": "https://localhost:8080/"
        },
        "id": "ybzQCGiAxO5r",
        "outputId": "2123114e-ff64-4588-83c3-adb9f78b8f31"
      },
      "execution_count": 92,
      "outputs": [
        {
          "output_type": "execute_result",
          "data": {
            "text/plain": [
              "200"
            ]
          },
          "metadata": {},
          "execution_count": 92
        }
      ]
    },
    {
      "cell_type": "code",
      "source": [
        "response.content[:2000]"
      ],
      "metadata": {
        "colab": {
          "base_uri": "https://localhost:8080/"
        },
        "id": "N2OCnoF6xRPL",
        "outputId": "e66ae05d-6d05-438c-fd1b-92a616ab669c"
      },
      "execution_count": 93,
      "outputs": [
        {
          "output_type": "execute_result",
          "data": {
            "text/plain": [
              "b'\\n\\n\\n\\n\\n\\n\\n\\n<!DOCTYPE html>\\n<html\\n  lang=\"en\"\\n  data-color-mode=\"dark\" data-dark-theme=\"dark\"\\n  data-color-mode=\"light\" data-light-theme=\"light\" data-dark-theme=\"dark\"\\n  data-a11y-animated-images=\"system\" data-a11y-link-underlines=\"true\"\\n  \\n  >\\n\\n\\n\\n  <head>\\n    <meta charset=\"utf-8\">\\n  <link rel=\"dns-prefetch\" href=\"https://github.githubassets.com\">\\n  <link rel=\"dns-prefetch\" href=\"https://avatars.githubusercontent.com\">\\n  <link rel=\"dns-prefetch\" href=\"https://github-cloud.s3.amazonaws.com\">\\n  <link rel=\"dns-prefetch\" href=\"https://user-images.githubusercontent.com/\">\\n  <link rel=\"preconnect\" href=\"https://github.githubassets.com\" crossorigin>\\n  <link rel=\"preconnect\" href=\"https://avatars.githubusercontent.com\">\\n\\n  \\n    <link rel=\"preload\" href=\"https://github.githubassets.com/assets/global-banner-disable-f988792be49f.js\" as=\"script\" crossorigin>\\n\\n  <link rel=\"preload\" href=\"https://github.githubassets.com/assets/mona-sans-d1bf285e9b9b.woff2\" as=\"font\" type=\"font/woff2\" crossorigin>\\n\\n\\n  <link crossorigin=\"anonymous\" media=\"all\" rel=\"stylesheet\" href=\"https://github.githubassets.com/assets/light-74231a1f3bbb.css\" /><link crossorigin=\"anonymous\" media=\"all\" rel=\"stylesheet\" href=\"https://github.githubassets.com/assets/light_high_contrast-83beb16e0ecf.css\" /><link crossorigin=\"anonymous\" media=\"all\" rel=\"stylesheet\" href=\"https://github.githubassets.com/assets/dark-8a995f0bacd4.css\" /><link crossorigin=\"anonymous\" media=\"all\" rel=\"stylesheet\" href=\"https://github.githubassets.com/assets/dark_high_contrast-9ac301c3ebe5.css\" /><link data-color-theme=\"light\" crossorigin=\"anonymous\" media=\"all\" rel=\"stylesheet\" data-href=\"https://github.githubassets.com/assets/light-74231a1f3bbb.css\" /><link data-color-theme=\"light_high_contrast\" crossorigin=\"anonymous\" media=\"all\" rel=\"stylesheet\" data-href=\"https://github.githubassets.com/assets/light_high_contrast-83beb16e0ecf.css\" /><link data-color-theme=\"light_colorblind\" crossorigin=\"anonymous\" media=\"all\" rel=\"stylesheet\" data-href=\"h'"
            ]
          },
          "metadata": {},
          "execution_count": 93
        }
      ]
    },
    {
      "cell_type": "markdown",
      "source": [
        "### **Query Parameters**"
      ],
      "metadata": {
        "id": "_9qviIM81GhS"
      }
    },
    {
      "cell_type": "code",
      "source": [
        "uri = \"https://api.github.com/search/repositories\""
      ],
      "metadata": {
        "id": "-duK8Lhb1RPS"
      },
      "execution_count": 99,
      "outputs": []
    },
    {
      "cell_type": "code",
      "source": [
        "params = {\"q\": \"requests+language:python\"}"
      ],
      "metadata": {
        "id": "-iuGNvKM1gnb"
      },
      "execution_count": 100,
      "outputs": []
    },
    {
      "cell_type": "code",
      "source": [
        "response = requests.get(uri, params=params)"
      ],
      "metadata": {
        "id": "9HNXF7tM112y"
      },
      "execution_count": 101,
      "outputs": []
    },
    {
      "cell_type": "code",
      "source": [
        "response.status_code"
      ],
      "metadata": {
        "colab": {
          "base_uri": "https://localhost:8080/"
        },
        "id": "1n1HI-KB2b2R",
        "outputId": "009ce5a4-f6a3-4d9b-9f82-43bdd7bd598f"
      },
      "execution_count": 102,
      "outputs": [
        {
          "output_type": "execute_result",
          "data": {
            "text/plain": [
              "200"
            ]
          },
          "metadata": {},
          "execution_count": 102
        }
      ]
    },
    {
      "cell_type": "code",
      "source": [
        "response.content[:2000]"
      ],
      "metadata": {
        "colab": {
          "base_uri": "https://localhost:8080/"
        },
        "id": "ADz_vKJ82fkR",
        "outputId": "ea3b91c6-8c0a-4d65-a398-ce2f4b3ea16f"
      },
      "execution_count": 104,
      "outputs": [
        {
          "output_type": "execute_result",
          "data": {
            "text/plain": [
              "b'{\"total_count\":258,\"incomplete_results\":false,\"items\":[{\"id\":33210074,\"node_id\":\"MDEwOlJlcG9zaXRvcnkzMzIxMDA3NA==\",\"name\":\"secrules-language-evaluation\",\"full_name\":\"SpiderLabs/secrules-language-evaluation\",\"private\":false,\"owner\":{\"login\":\"SpiderLabs\",\"id\":508521,\"node_id\":\"MDEyOk9yZ2FuaXphdGlvbjUwODUyMQ==\",\"avatar_url\":\"https://avatars.githubusercontent.com/u/508521?v=4\",\"gravatar_id\":\"\",\"url\":\"https://api.github.com/users/SpiderLabs\",\"html_url\":\"https://github.com/SpiderLabs\",\"followers_url\":\"https://api.github.com/users/SpiderLabs/followers\",\"following_url\":\"https://api.github.com/users/SpiderLabs/following{/other_user}\",\"gists_url\":\"https://api.github.com/users/SpiderLabs/gists{/gist_id}\",\"starred_url\":\"https://api.github.com/users/SpiderLabs/starred{/owner}{/repo}\",\"subscriptions_url\":\"https://api.github.com/users/SpiderLabs/subscriptions\",\"organizations_url\":\"https://api.github.com/users/SpiderLabs/orgs\",\"repos_url\":\"https://api.github.com/users/SpiderLabs/repos\",\"events_url\":\"https://api.github.com/users/SpiderLabs/events{/privacy}\",\"received_events_url\":\"https://api.github.com/users/SpiderLabs/received_events\",\"type\":\"Organization\",\"user_view_type\":\"public\",\"site_admin\":false},\"html_url\":\"https://github.com/SpiderLabs/secrules-language-evaluation\",\"description\":\"Set of Python scripts to perform SecRules language evaluation on a given http request.\",\"fork\":false,\"url\":\"https://api.github.com/repos/SpiderLabs/secrules-language-evaluation\",\"forks_url\":\"https://api.github.com/repos/SpiderLabs/secrules-language-evaluation/forks\",\"keys_url\":\"https://api.github.com/repos/SpiderLabs/secrules-language-evaluation/keys{/key_id}\",\"collaborators_url\":\"https://api.github.com/repos/SpiderLabs/secrules-language-evaluation/collaborators{/collaborator}\",\"teams_url\":\"https://api.github.com/repos/SpiderLabs/secrules-language-evaluation/teams\",\"hooks_url\":\"https://api.github.com/repos/SpiderLabs/secrules-language-evaluation/hooks\",\"issue_events_url\":\"https://api.github.com/repo'"
            ]
          },
          "metadata": {},
          "execution_count": 104
        }
      ]
    }
  ]
}